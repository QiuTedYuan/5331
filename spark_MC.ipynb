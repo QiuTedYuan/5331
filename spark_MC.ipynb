{
 "cells": [
  {
   "cell_type": "code",
   "execution_count": null,
   "metadata": {
    "collapsed": true
   },
   "outputs": [],
   "source": [
    "lines = sc.textFile('./data/test_gnm/graph.txt',8)"
   ]
  },
  {
   "cell_type": "code",
   "execution_count": null,
   "metadata": {},
   "outputs": [],
   "source": [
    "lines.count()"
   ]
  },
  {
   "cell_type": "code",
   "execution_count": null,
   "metadata": {},
   "outputs": [],
   "source": [
    "lines.getNumPartitions()"
   ]
  },
  {
   "cell_type": "code",
   "execution_count": null,
   "metadata": {},
   "outputs": [],
   "source": [
    "lines.take(5)"
   ]
  },
  {
   "cell_type": "code",
   "execution_count": null,
   "metadata": {},
   "outputs": [],
   "source": [
    "# Converting lines into edges. \n",
    "edges = lines.map(lambda l: tuple(map(int,l.split())))\n",
    "graph = edges.combineByKey(\n",
    "    lambda e:[e],\\\n",
    "    lambda v,e:v+[e],\\\n",
    "    lambda v1,v2:v1+v2)\n",
    "graph.cache()"
   ]
  },
  {
   "cell_type": "code",
   "execution_count": null,
   "metadata": {},
   "outputs": [],
   "source": [
    "graph.sortByKey().take(5)"
   ]
  },
  {
   "cell_type": "code",
   "execution_count": null,
   "metadata": {},
   "outputs": [],
   "source": [
    "graph.getNumPartitions()"
   ]
  },
  {
   "cell_type": "code",
   "execution_count": null,
   "metadata": {},
   "outputs": [],
   "source": [
    "G = graph.sortByKey().collect()"
   ]
  },
  {
   "cell_type": "code",
   "execution_count": null,
   "metadata": {},
   "outputs": [],
   "source": [
    "import math\n",
    "n = graph.count()\n",
    "m = lines.count()\n",
    "s = 1\n",
    "alpha = 0.2\n",
    "pf = 1./n\n",
    "delta = 1./n\n",
    "epsilon = 0.5\n",
    "w = int(math.ceil(math.log(1./pf)/(epsilon*epsilon*delta)))\n",
    "k = 10"
   ]
  },
  {
   "cell_type": "code",
   "execution_count": null,
   "metadata": {},
   "outputs": [],
   "source": [
    "G"
   ]
  },
  {
   "cell_type": "code",
   "execution_count": null,
   "metadata": {},
   "outputs": [],
   "source": [
    "import random\n",
    "import math\n",
    "\n",
    "def find_vertex(G,v):\n",
    "    start = 0\n",
    "    end = len(G)-1\n",
    "    while (start<=end):\n",
    "        middle = (start+end)/2\n",
    "        if (G[middle][0]==v):\n",
    "            return middle\n",
    "        elif (v<G[middle][0]):\n",
    "            end = middle-1\n",
    "        else:\n",
    "            start = middle+1\n",
    "    return -1\n",
    "def random_walk(v,G):\n",
    "    current=v\n",
    "    while (random.random()>alpha):\n",
    "        idx = find_vertex(G,current)\n",
    "        if (idx==0):\n",
    "            break\n",
    "        Nout=len(G[idx][1])\n",
    "        if (Nout==0):\n",
    "            break\n",
    "        choice = int(math.floor(random.random()*Nout))\n",
    "        current = G[idx][1][choice]\n",
    "    yield current"
   ]
  },
  {
   "cell_type": "code",
   "execution_count": null,
   "metadata": {},
   "outputs": [],
   "source": [
    "random_walk(1,G)"
   ]
  },
  {
   "cell_type": "code",
   "execution_count": null,
   "metadata": {},
   "outputs": [],
   "source": [
    "iterations = sc.parallelize([s for i in range(w)],8)"
   ]
  },
  {
   "cell_type": "code",
   "execution_count": null,
   "metadata": {},
   "outputs": [],
   "source": [
    "iterations.getNumPartitions()"
   ]
  },
  {
   "cell_type": "code",
   "execution_count": null,
   "metadata": {},
   "outputs": [],
   "source": [
    "from operator import add\n",
    "counts = iterations.flatMap(lambda x: random_walk(x,G)).map(lambda x: (x,1)).reduceByKey(add).cache()"
   ]
  },
  {
   "cell_type": "code",
   "execution_count": null,
   "metadata": {},
   "outputs": [],
   "source": [
    "results = counts.sortByKey().map(lambda (x,y):(y,x)).sortByKey(False).map(lambda (x,y):(y,x)).mapValues(lambda v: v*1./w)"
   ]
  },
  {
   "cell_type": "code",
   "execution_count": null,
   "metadata": {},
   "outputs": [],
   "source": [
    "results.take(k)"
   ]
  }
 ],
 "metadata": {
  "kernelspec": {
   "display_name": "Python 2",
   "language": "python",
   "name": "python2"
  },
  "language_info": {
   "codemirror_mode": {
    "name": "ipython",
    "version": 2
   },
   "file_extension": ".py",
   "mimetype": "text/x-python",
   "name": "python",
   "nbconvert_exporter": "python",
   "pygments_lexer": "ipython2",
   "version": "2.7.14"
  }
 },
 "nbformat": 4,
 "nbformat_minor": 2
}
